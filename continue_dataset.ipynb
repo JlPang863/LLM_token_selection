{
 "cells": [
  {
   "cell_type": "code",
   "execution_count": 12,
   "metadata": {},
   "outputs": [
    {
     "data": {
      "application/vnd.jupyter.widget-view+json": {
       "model_id": "7661b3e2e85a4480b93228e3fc9f917b",
       "version_major": 2,
       "version_minor": 0
      },
      "text/plain": [
       "Filter:   0%|          | 0/300932 [00:00<?, ? examples/s]"
      ]
     },
     "metadata": {},
     "output_type": "display_data"
    }
   ],
   "source": [
    "from datasets import load_dataset\n",
    "\n",
    "\n",
    "full_dataset = load_dataset(\"json\", data_files=\"selected_data/full-300k_dataset.json\")['train']\n",
    "\n",
    "filtered_cured_50k_dataset = load_dataset(\"json\", data_files=\"selected_data/filtered-cured-50k_dataset.json\")['train']\n",
    "\n",
    "filtered_ids = filtered_cured_50k_dataset['id']\n",
    "\n",
    "remaining_dataset = full_dataset.filter(lambda x: x['id'] not in filtered_ids)\n"
   ]
  },
  {
   "cell_type": "code",
   "execution_count": 16,
   "metadata": {},
   "outputs": [
    {
     "data": {
      "text/plain": [
       "292526"
      ]
     },
     "execution_count": 16,
     "metadata": {},
     "output_type": "execute_result"
    }
   ],
   "source": [
    "len(remaining_dataset) + 50000"
   ]
  },
  {
   "cell_type": "code",
   "execution_count": 19,
   "metadata": {},
   "outputs": [],
   "source": [
    "import numpy as np\n",
    "import random \n",
    "\n",
    "random.seed(3)\n",
    "dataset_length = len(remaining_dataset)\n",
    "indices = random.sample(range(dataset_length), 50000)\n",
    "\n",
    "continue_random_50k_dataset = remaining_dataset.select(indices)"
   ]
  },
  {
   "cell_type": "code",
   "execution_count": 21,
   "metadata": {},
   "outputs": [
    {
     "data": {
      "application/vnd.jupyter.widget-view+json": {
       "model_id": "ef718008e06e49658fc1ed4524b70733",
       "version_major": 2,
       "version_minor": 0
      },
      "text/plain": [
       "Creating json from Arrow format:   0%|          | 0/50 [00:00<?, ?ba/s]"
      ]
     },
     "metadata": {},
     "output_type": "display_data"
    },
    {
     "data": {
      "text/plain": [
       "76159917"
      ]
     },
     "execution_count": 21,
     "metadata": {},
     "output_type": "execute_result"
    }
   ],
   "source": [
    "continue_random_50k_dataset.to_json(\"continue-random-50k_dataset.json\")"
   ]
  },
  {
   "cell_type": "code",
   "execution_count": 22,
   "metadata": {},
   "outputs": [
    {
     "data": {
      "application/vnd.jupyter.widget-view+json": {
       "model_id": "ea0f2b33cca042d6baa9f3777f5c76f3",
       "version_major": 2,
       "version_minor": 0
      },
      "text/plain": [
       "Generating train split: 0 examples [00:00, ? examples/s]"
      ]
     },
     "metadata": {},
     "output_type": "display_data"
    },
    {
     "data": {
      "application/vnd.jupyter.widget-view+json": {
       "model_id": "7335406147834d52a007ac5ae6924876",
       "version_major": 2,
       "version_minor": 0
      },
      "text/plain": [
       "Creating json from Arrow format:   0%|          | 0/10 [00:00<?, ?ba/s]"
      ]
     },
     "metadata": {},
     "output_type": "display_data"
    },
    {
     "data": {
      "application/vnd.jupyter.widget-view+json": {
       "model_id": "705346ae65a34561a72c17bd2a50ef35",
       "version_major": 2,
       "version_minor": 0
      },
      "text/plain": [
       "Creating json from Arrow format:   0%|          | 0/10 [00:00<?, ?ba/s]"
      ]
     },
     "metadata": {},
     "output_type": "display_data"
    },
    {
     "data": {
      "application/vnd.jupyter.widget-view+json": {
       "model_id": "a870db31302049188cdcf87eb1218fca",
       "version_major": 2,
       "version_minor": 0
      },
      "text/plain": [
       "Creating json from Arrow format:   0%|          | 0/10 [00:00<?, ?ba/s]"
      ]
     },
     "metadata": {},
     "output_type": "display_data"
    },
    {
     "data": {
      "application/vnd.jupyter.widget-view+json": {
       "model_id": "3bb8f22c208142a0aa66d7c9a3568788",
       "version_major": 2,
       "version_minor": 0
      },
      "text/plain": [
       "Creating json from Arrow format:   0%|          | 0/10 [00:00<?, ?ba/s]"
      ]
     },
     "metadata": {},
     "output_type": "display_data"
    },
    {
     "data": {
      "application/vnd.jupyter.widget-view+json": {
       "model_id": "dbb3c5107c0842fe8934d08bef9cab3f",
       "version_major": 2,
       "version_minor": 0
      },
      "text/plain": [
       "Creating json from Arrow format:   0%|          | 0/10 [00:00<?, ?ba/s]"
      ]
     },
     "metadata": {},
     "output_type": "display_data"
    }
   ],
   "source": [
    "import json\n",
    "from datasets import load_dataset\n",
    "\n",
    "data_path = 'selected_data/'\n",
    "\n",
    "dataset = load_dataset(\"json\", data_files=\"continue-random-50k_dataset.json\")['train']\n",
    "\n",
    "# dataset = dataset.shuffle(seed=42) \n",
    "# dataset.to_json(data_path + \"filtered-cured-50k-shuffle.json\")\n",
    "# dataset = dataset.select(range(len(dataset)-1, -1, -1))\n",
    "\n",
    "train_dataset_tag=\"filtered-cured-50k-iter-split-global_data_prop_0.6_llama3b-non-filtered-fixed-base-model\"\n",
    "\n",
    "subset_size = 5\n",
    "\n",
    "data_size = len(dataset) // subset_size\n",
    "# data_size = 10\n",
    "for i in range(subset_size):\n",
    "    selected_indices = [idx for idx in range(data_size *i, data_size * (i+1))]\n",
    "    subset = dataset.select(selected_indices)\n",
    "\n",
    "    subset.to_json(data_path + f\"{train_dataset_tag}_{i+5}.json\")\n",
    "\n"
   ]
  },
  {
   "cell_type": "code",
   "execution_count": 15,
   "metadata": {},
   "outputs": [
    {
     "data": {
      "text/plain": [
       "50000"
      ]
     },
     "execution_count": 15,
     "metadata": {},
     "output_type": "execute_result"
    }
   ],
   "source": [
    "len(filtered_cured_50k_dataset['id'])"
   ]
  }
 ],
 "metadata": {
  "kernelspec": {
   "display_name": "venv",
   "language": "python",
   "name": "python3"
  },
  "language_info": {
   "codemirror_mode": {
    "name": "ipython",
    "version": 3
   },
   "file_extension": ".py",
   "mimetype": "text/x-python",
   "name": "python",
   "nbconvert_exporter": "python",
   "pygments_lexer": "ipython3",
   "version": "3.10.12"
  }
 },
 "nbformat": 4,
 "nbformat_minor": 2
}
