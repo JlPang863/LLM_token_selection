{
 "cells": [
  {
   "cell_type": "code",
   "execution_count": 1,
   "metadata": {},
   "outputs": [
    {
     "data": {
      "application/vnd.jupyter.widget-view+json": {
       "model_id": "c11313c7c3c240a695f710ac5295eef1",
       "version_major": 2,
       "version_minor": 0
      },
      "text/plain": [
       "Creating json from Arrow format:   0%|          | 0/10 [00:00<?, ?ba/s]"
      ]
     },
     "metadata": {},
     "output_type": "display_data"
    },
    {
     "data": {
      "application/vnd.jupyter.widget-view+json": {
       "model_id": "e1b89bba99f342debfcce239bf95c764",
       "version_major": 2,
       "version_minor": 0
      },
      "text/plain": [
       "Creating json from Arrow format:   0%|          | 0/10 [00:00<?, ?ba/s]"
      ]
     },
     "metadata": {},
     "output_type": "display_data"
    },
    {
     "data": {
      "application/vnd.jupyter.widget-view+json": {
       "model_id": "c8d0e4f3aca24b0fb7ff0d14c9b7f56f",
       "version_major": 2,
       "version_minor": 0
      },
      "text/plain": [
       "Creating json from Arrow format:   0%|          | 0/10 [00:00<?, ?ba/s]"
      ]
     },
     "metadata": {},
     "output_type": "display_data"
    },
    {
     "data": {
      "application/vnd.jupyter.widget-view+json": {
       "model_id": "ca35add9f51c4d5ba34776804dfc9e28",
       "version_major": 2,
       "version_minor": 0
      },
      "text/plain": [
       "Creating json from Arrow format:   0%|          | 0/10 [00:00<?, ?ba/s]"
      ]
     },
     "metadata": {},
     "output_type": "display_data"
    },
    {
     "data": {
      "application/vnd.jupyter.widget-view+json": {
       "model_id": "de9e6e6926824635897322068bb8a0ed",
       "version_major": 2,
       "version_minor": 0
      },
      "text/plain": [
       "Creating json from Arrow format:   0%|          | 0/10 [00:00<?, ?ba/s]"
      ]
     },
     "metadata": {},
     "output_type": "display_data"
    }
   ],
   "source": [
    "import json\n",
    "from datasets import load_dataset\n",
    "\n",
    "data_path = 'selected_data/'\n",
    "\n",
    "# dataset_name = 'filtered-cured-50k-shuffle'\n",
    "dataset_name = 'filtered-cured-50k'\n",
    "# dataset_name = \"random_subset_50k\"\n",
    "# dataset_name = \"alpaca_52k\"\n",
    "# dataset_name = \"full\"\n",
    "# dataset_name = \"filtered-cured-10k\"\n",
    "\n",
    "dataset = load_dataset(\"json\", data_files= data_path + f'{dataset_name}_dataset.json')['train']\n",
    "\n",
    "# dataset = dataset.shuffle(seed=42) \n",
    "# dataset.to_json(data_path + \"filtered-cured-50k-shuffle.json\")\n",
    "# dataset = dataset.select(range(len(dataset)-1, -1, -1))\n",
    "\n",
    "\n",
    "subset_size = 5\n",
    "\n",
    "data_size = len(dataset) // subset_size\n",
    "# data_size = 10\n",
    "for i in range(subset_size):\n",
    "    selected_indices = [idx for idx in range(data_size *i, data_size * (i+1))]\n",
    "    subset = dataset.select(selected_indices)\n",
    "\n",
    "    # subset.to_json(data_path + f\"{dataset_name}-global-fixed-base-loss_{i}.json\")\n",
    "    # subset.to_json(data_path + f\"{dataset_name}-active-split-global-curve-positive-new1-fixed-base-loss_{i}.json\")\n",
    "    # subset.to_json(data_path + f\"{dataset_name}-active-split-sample-positive-reverse_{i}.json\")\n",
    "    # subset.to_json(data_path + f\"{dataset_name}-active-split-global-positive-new2-shuffle_{i}.json\")\n",
    "    # subset.to_json(data_path + f\"{dataset_name}-active-split-global-half-positive-fixed-base-loss_{i}.json\")\n",
    "    # subset.to_json(data_path + f\"{dataset_name}-active-split-global-curve-positive-fixed-base-loss-using-warmup_{i}.json\")\n",
    "    # subset.to_json(data_path + f\"{dataset_name}-active-split-global-curve-positive-using-warmup_{i}.json\")\n",
    "    # subset.to_json(data_path + f\"{dataset_name}-active-split-global-curve-positive-fixed-base-loss-using-warmup-full-data_{i}.json\")\n",
    "    # subset.to_json(data_path + f\"{dataset_name}-active-split-global-curve-positive-using-full-train-reference_{i}.json\")\n",
    "    \n",
    "    # subset.to_json(data_path + f\"{dataset_name}-active-split-global-half-positive-using-full-train-reference_{i}.json\")\n",
    "    # subset.to_json(data_path + f\"{dataset_name}-active-split-global-curve-positive-new1-lr_{i}.json\")\n",
    "    # subset.to_json(data_path + f\"{dataset_name}-iter-split-global_data_prop_combine_global_half_positive_fixed_based_loss_{i}.json\")\n",
    "    # subset.to_json(data_path + f\"{dataset_name}-iter-split-global_data_prop_combine_active_split_global_half_positive_{i}.json\")\n",
    "    \n",
    "    # subset.to_json(data_path + f\"{dataset_name}-iter-split-global_data_prop_combine_active-split-global-curve-positive-fixed-base-loss-using-warmup-label_{i}.json\")\n",
    "    # subset.to_json(data_path + f\"{dataset_name}-iter-split-global_data_prop_combine_active-split-global-curve-positive-fixed-base-loss-label_{i}.json\")\n",
    "    # subset.to_json(data_path + f\"{dataset_name}-iter-split-global_data_prop_0.3_combine_active-split-global-half-positive-fixed-base-loss-label_{i}.json\")\n",
    "\n",
    "    # subset.to_json(data_path + f\"{dataset_name}-iter-split-global_data_prop_0.3_mistral_{i}.json\")\n",
    "    # subset.to_json(data_path + f\"{dataset_name}-iter-split-global_data_prop_0.3_llama8b_{i}.json\")\n",
    "    # subset.to_json(data_path + f\"{dataset_name}-iter-split-global_data_prop_0.3_llama3b_{i}.json\")\n",
    "    # subset.to_json(data_path + f\"{dataset_name}-iter-split-global_data_prop_0.6_llama3b_{i}.json\")\n",
    "    subset.to_json(data_path + f\"{dataset_name}-rho-baseline-llama3b-global_{i}.json\")\n",
    "\n",
    "    # subset.to_json(data_path + f\"{dataset_name}-iter-split-global_data_prop_0.6_{i}.json\")\n",
    "    # subset.to_json(data_path + f\"{dataset_name}-active-split-global-half-positive-fixed-base-loss-using-warmup-llama3b_{i}.json\")\n",
    "\n",
    "    # subset.to_json(data_path + f\"{dataset_name}-active-split-global-half-positive-fixed-base-loss-using-warmup-llama8b_{i}.json\")\n",
    "    # subset.to_json(data_path + f\"{dataset_name}-active-split-global-half-positive-fixed-base-loss-using-warmup-mistral_{i}.json\")\n",
    "\n",
    "    # subset.to_json(data_path + f\"{dataset_name}-iter-split-global_data_prop_0.3_combine_active-split-global-half-positive-fixed-base-loss-using-warmup-label_mistral_{i}.json\")\n",
    "    # subset.to_json(data_path + f\"{dataset_name}-iter-split-global_data_prop_0.3_combine_active-split-global-half-positive-fixed-base-loss-using-warmup-label_llama8b_{i}.json\")\n",
    "    \n"
   ]
  }
 ],
 "metadata": {
  "kernelspec": {
   "display_name": "venv",
   "language": "python",
   "name": "python3"
  },
  "language_info": {
   "codemirror_mode": {
    "name": "ipython",
    "version": 3
   },
   "file_extension": ".py",
   "mimetype": "text/x-python",
   "name": "python",
   "nbconvert_exporter": "python",
   "pygments_lexer": "ipython3",
   "version": "3.10.12"
  }
 },
 "nbformat": 4,
 "nbformat_minor": 2
}
