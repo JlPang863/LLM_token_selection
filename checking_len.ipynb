{
 "cells": [
  {
   "cell_type": "markdown",
   "metadata": {},
   "source": [
    "### Calculating the average token length of Datasets"
   ]
  },
  {
   "cell_type": "code",
   "execution_count": 1,
   "metadata": {},
   "outputs": [
    {
     "data": {
      "application/vnd.jupyter.widget-view+json": {
       "model_id": "69f4d89fffcc487aac02ef748c66d60f",
       "version_major": 2,
       "version_minor": 0
      },
      "text/plain": [
       "Map (num_proc=4):   0%|          | 0/817 [00:00<?, ? examples/s]"
      ]
     },
     "metadata": {},
     "output_type": "display_data"
    },
    {
     "name": "stdout",
     "output_type": "stream",
     "text": [
      "Prompts Average Tokens: 103.10771113831089\n",
      "Completions Average Tokens: 6357.093023255814\n",
      "Overall Tokens: 6460.200734394125\n"
     ]
    }
   ],
   "source": [
    "from transformers import AutoTokenizer\n",
    "from datasets import load_dataset\n",
    "\n",
    "# Configuration\n",
    "# root_path = \"selected_data/filtered-cured-50k_dataset.json\"\n",
    "root_path = \"limo_dataset.json\"\n",
    "\n",
    "# Load dataset\n",
    "data = load_dataset('json', data_files=root_path)\n",
    "dialogs = data['train']\n",
    "\n",
    "# sorted_labels = ['dolly', 'flan_v2', 'stanford_alpaca', 'wizardlm', 'oasst1']\n",
    "\n",
    "# target_subset_name = 'wizardlm'\n",
    "# dialogs = dialogs.filter(lambda sample: sample['dataset'] == target_subset_name)\n",
    "\n",
    "# Load tokenizer\n",
    "tokenizer = AutoTokenizer.from_pretrained(\"meta-llama/Llama-3.2-3B\")\n",
    "\n",
    "# Define data processing function\n",
    "def process_dialog(batch):\n",
    "    dialog_prompts = []\n",
    "    dialog_completions = []\n",
    "    for dialog in batch['messages']:  # Access the 'messages' field\n",
    "        dialog_prompt = \" \".join([msg['content'] for msg in dialog if msg['role'] == 'user'])\n",
    "        dialog_completion = \" \".join([msg['content'] for msg in dialog if msg['role'] == 'assistant'])\n",
    "        dialog_prompts.append(dialog_prompt)\n",
    "        dialog_completions.append(dialog_completion)\n",
    "    return {\"prompt\": dialog_prompts, \"completion\": dialog_completions}\n",
    "\n",
    "# Process dialogs using datasets.map\n",
    "processed_data = dialogs.map(\n",
    "    process_dialog,\n",
    "    batched=True,\n",
    "    batch_size=8,  # Adjust the batch size based on memory capacity\n",
    "    num_proc=4\n",
    ")\n",
    "\n",
    "# Extract prompts and completions\n",
    "prompts = processed_data['prompt']\n",
    "completions = processed_data['completion']\n",
    "\n",
    "# Batch tokenize data\n",
    "prompts_tokenized = tokenizer(prompts, padding=False, truncation=False, return_length=True)\n",
    "completions_tokenized = tokenizer(completions, padding=False, truncation=False, return_length=True)\n",
    "\n",
    "# Compute average lengths\n",
    "prompts_avg_tokens = sum(prompts_tokenized['length']) / len(prompts_tokenized['length'])\n",
    "completions_avg_tokens = sum(completions_tokenized['length']) / len(completions_tokenized['length'])\n",
    "\n",
    "overall_avg_tokens = prompts_avg_tokens + completions_avg_tokens\n",
    "\n",
    "# Print results\n",
    "print(f\"Prompts Average Tokens: {prompts_avg_tokens}\")\n",
    "print(f\"Completions Average Tokens: {completions_avg_tokens}\")\n",
    "print(f\"Overall Tokens: {overall_avg_tokens}\")\n",
    "\n"
   ]
  },
  {
   "cell_type": "code",
   "execution_count": 8,
   "metadata": {},
   "outputs": [
    {
     "data": {
      "text/plain": [
       "Dataset({\n",
       "    features: ['dataset', 'id', 'messages'],\n",
       "    num_rows: 1567\n",
       "})"
      ]
     },
     "execution_count": 8,
     "metadata": {},
     "output_type": "execute_result"
    }
   ],
   "source": [
    "dialogs"
   ]
  }
 ],
 "metadata": {
  "kernelspec": {
   "display_name": "new_env",
   "language": "python",
   "name": "python3"
  },
  "language_info": {
   "codemirror_mode": {
    "name": "ipython",
    "version": 3
   },
   "file_extension": ".py",
   "mimetype": "text/x-python",
   "name": "python",
   "nbconvert_exporter": "python",
   "pygments_lexer": "ipython3",
   "version": "3.10.12"
  }
 },
 "nbformat": 4,
 "nbformat_minor": 2
}
